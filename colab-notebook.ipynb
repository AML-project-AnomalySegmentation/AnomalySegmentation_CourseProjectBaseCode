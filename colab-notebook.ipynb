{
  "cells": [
    {
      "cell_type": "markdown",
      "metadata": {
        "id": "view-in-github",
        "colab_type": "text"
      },
      "source": [
        "<a href=\"https://colab.research.google.com/github/AML-project-AnomalySegmentation/AnomalySegmentation_CourseProjectBaseCode/blob/main/colab-notebook.ipynb\" target=\"_parent\"><img src=\"https://colab.research.google.com/assets/colab-badge.svg\" alt=\"Open In Colab\"/></a>"
      ]
    },
    {
      "cell_type": "markdown",
      "source": [
        "# AML Project - Anomaly Segmentation"
      ],
      "metadata": {
        "id": "aDXzDAxzgsv_"
      }
    },
    {
      "cell_type": "markdown",
      "source": [
        "## Notebook setup"
      ],
      "metadata": {
        "id": "XgDwCvkNg33C"
      }
    },
    {
      "cell_type": "code",
      "source": [
        "%cd /content\n",
        "!rm -r AnomalySegmentation_CourseProjectBaseCode\n",
        "!git clone https://github.com/AML-project-AnomalySegmentation/AnomalySegmentation_CourseProjectBaseCode.git"
      ],
      "metadata": {
        "colab": {
          "base_uri": "https://localhost:8080/"
        },
        "id": "xizWY25Cfe2J",
        "outputId": "9ef3d862-e07a-490c-f185-c796a435ce99"
      },
      "execution_count": 47,
      "outputs": [
        {
          "output_type": "stream",
          "name": "stdout",
          "text": [
            "/content\n",
            "rm: cannot remove 'AnomalySegmentation_CourseProjectBaseCode': No such file or directory\n",
            "Cloning into 'AnomalySegmentation_CourseProjectBaseCode'...\n",
            "remote: Enumerating objects: 585, done.\u001b[K\n",
            "remote: Counting objects: 100% (60/60), done.\u001b[K\n",
            "remote: Compressing objects: 100% (37/37), done.\u001b[K\n",
            "remote: Total 585 (delta 30), reused 41 (delta 23), pack-reused 525\u001b[K\n",
            "Receiving objects: 100% (585/585), 334.92 MiB | 33.26 MiB/s, done.\n",
            "Resolving deltas: 100% (51/51), done.\n"
          ]
        }
      ]
    },
    {
      "cell_type": "code",
      "source": [
        "!pip3 install visdom\n",
        "!pip3 install ood_metrics"
      ],
      "metadata": {
        "id": "9I1wqrP7hVTQ",
        "outputId": "c64e40fb-92e5-4208-f86b-927452dfad18",
        "colab": {
          "base_uri": "https://localhost:8080/"
        }
      },
      "execution_count": 50,
      "outputs": [
        {
          "output_type": "stream",
          "name": "stdout",
          "text": [
            "Collecting visdom\n",
            "  Downloading visdom-0.2.4.tar.gz (1.4 MB)\n",
            "\u001b[2K     \u001b[90m━━━━━━━━━━━━━━━━━━━━━━━━━━━━━━━━━━━━━━━━\u001b[0m \u001b[32m1.4/1.4 MB\u001b[0m \u001b[31m7.7 MB/s\u001b[0m eta \u001b[36m0:00:00\u001b[0m\n",
            "\u001b[?25h  Preparing metadata (setup.py) ... \u001b[?25l\u001b[?25hdone\n",
            "Requirement already satisfied: numpy>=1.8 in /usr/local/lib/python3.10/dist-packages (from visdom) (1.23.5)\n",
            "Requirement already satisfied: scipy in /usr/local/lib/python3.10/dist-packages (from visdom) (1.11.4)\n",
            "Requirement already satisfied: requests in /usr/local/lib/python3.10/dist-packages (from visdom) (2.31.0)\n",
            "Requirement already satisfied: tornado in /usr/local/lib/python3.10/dist-packages (from visdom) (6.3.2)\n",
            "Requirement already satisfied: six in /usr/local/lib/python3.10/dist-packages (from visdom) (1.16.0)\n",
            "Collecting jsonpatch (from visdom)\n",
            "  Downloading jsonpatch-1.33-py2.py3-none-any.whl (12 kB)\n",
            "Requirement already satisfied: websocket-client in /usr/local/lib/python3.10/dist-packages (from visdom) (1.7.0)\n",
            "Requirement already satisfied: networkx in /usr/local/lib/python3.10/dist-packages (from visdom) (3.2.1)\n",
            "Requirement already satisfied: pillow in /usr/local/lib/python3.10/dist-packages (from visdom) (9.4.0)\n",
            "Collecting jsonpointer>=1.9 (from jsonpatch->visdom)\n",
            "  Downloading jsonpointer-2.4-py2.py3-none-any.whl (7.8 kB)\n",
            "Requirement already satisfied: charset-normalizer<4,>=2 in /usr/local/lib/python3.10/dist-packages (from requests->visdom) (3.3.2)\n",
            "Requirement already satisfied: idna<4,>=2.5 in /usr/local/lib/python3.10/dist-packages (from requests->visdom) (3.6)\n",
            "Requirement already satisfied: urllib3<3,>=1.21.1 in /usr/local/lib/python3.10/dist-packages (from requests->visdom) (2.0.7)\n",
            "Requirement already satisfied: certifi>=2017.4.17 in /usr/local/lib/python3.10/dist-packages (from requests->visdom) (2023.11.17)\n",
            "Building wheels for collected packages: visdom\n",
            "  Building wheel for visdom (setup.py) ... \u001b[?25l\u001b[?25hdone\n",
            "  Created wheel for visdom: filename=visdom-0.2.4-py3-none-any.whl size=1408194 sha256=17efa1f0977799813df3e8b81ed335692465c3a5e629f48399dea619b952bee0\n",
            "  Stored in directory: /root/.cache/pip/wheels/42/29/49/5bed207bac4578e4d2c0c5fc0226bfd33a7e2953ea56356855\n",
            "Successfully built visdom\n",
            "Installing collected packages: jsonpointer, jsonpatch, visdom\n",
            "Successfully installed jsonpatch-1.33 jsonpointer-2.4 visdom-0.2.4\n",
            "Collecting ood_metrics\n",
            "  Downloading ood_metrics-1.1.2-py3-none-any.whl (6.1 kB)\n",
            "Requirement already satisfied: matplotlib<4.0,>=3.0 in /usr/local/lib/python3.10/dist-packages (from ood_metrics) (3.7.1)\n",
            "Requirement already satisfied: numpy<2.0,>=1.22 in /usr/local/lib/python3.10/dist-packages (from ood_metrics) (1.23.5)\n",
            "Requirement already satisfied: scikit-learn<2.0,>=1.0 in /usr/local/lib/python3.10/dist-packages (from ood_metrics) (1.2.2)\n",
            "Requirement already satisfied: contourpy>=1.0.1 in /usr/local/lib/python3.10/dist-packages (from matplotlib<4.0,>=3.0->ood_metrics) (1.2.0)\n",
            "Requirement already satisfied: cycler>=0.10 in /usr/local/lib/python3.10/dist-packages (from matplotlib<4.0,>=3.0->ood_metrics) (0.12.1)\n",
            "Requirement already satisfied: fonttools>=4.22.0 in /usr/local/lib/python3.10/dist-packages (from matplotlib<4.0,>=3.0->ood_metrics) (4.47.0)\n",
            "Requirement already satisfied: kiwisolver>=1.0.1 in /usr/local/lib/python3.10/dist-packages (from matplotlib<4.0,>=3.0->ood_metrics) (1.4.5)\n",
            "Requirement already satisfied: packaging>=20.0 in /usr/local/lib/python3.10/dist-packages (from matplotlib<4.0,>=3.0->ood_metrics) (23.2)\n",
            "Requirement already satisfied: pillow>=6.2.0 in /usr/local/lib/python3.10/dist-packages (from matplotlib<4.0,>=3.0->ood_metrics) (9.4.0)\n",
            "Requirement already satisfied: pyparsing>=2.3.1 in /usr/local/lib/python3.10/dist-packages (from matplotlib<4.0,>=3.0->ood_metrics) (3.1.1)\n",
            "Requirement already satisfied: python-dateutil>=2.7 in /usr/local/lib/python3.10/dist-packages (from matplotlib<4.0,>=3.0->ood_metrics) (2.8.2)\n",
            "Requirement already satisfied: scipy>=1.3.2 in /usr/local/lib/python3.10/dist-packages (from scikit-learn<2.0,>=1.0->ood_metrics) (1.11.4)\n",
            "Requirement already satisfied: joblib>=1.1.1 in /usr/local/lib/python3.10/dist-packages (from scikit-learn<2.0,>=1.0->ood_metrics) (1.3.2)\n",
            "Requirement already satisfied: threadpoolctl>=2.0.0 in /usr/local/lib/python3.10/dist-packages (from scikit-learn<2.0,>=1.0->ood_metrics) (3.2.0)\n",
            "Requirement already satisfied: six>=1.5 in /usr/local/lib/python3.10/dist-packages (from python-dateutil>=2.7->matplotlib<4.0,>=3.0->ood_metrics) (1.16.0)\n",
            "Installing collected packages: ood_metrics\n",
            "Successfully installed ood_metrics-1.1.2\n"
          ]
        }
      ]
    },
    {
      "cell_type": "code",
      "source": [
        "%cd AnomalySegmentation_CourseProjectBaseCode/eval"
      ],
      "metadata": {
        "colab": {
          "base_uri": "https://localhost:8080/"
        },
        "id": "GRi9_WiAcycC",
        "outputId": "b77c96d4-f372-4d7b-a389-b261eadda422"
      },
      "execution_count": 48,
      "outputs": [
        {
          "output_type": "stream",
          "name": "stdout",
          "text": [
            "/content/AnomalySegmentation_CourseProjectBaseCode/eval\n"
          ]
        }
      ]
    },
    {
      "cell_type": "code",
      "source": [
        "!python evalAnomaly.py --input 'Validation_Dataset/RoadAnomaly21/images/*.png'"
      ],
      "metadata": {
        "id": "5RXDczfihNrH",
        "outputId": "5738c765-22a8-4e69-c5b2-41a16439a2db",
        "colab": {
          "base_uri": "https://localhost:8080/"
        }
      },
      "execution_count": 51,
      "outputs": [
        {
          "output_type": "stream",
          "name": "stdout",
          "text": [
            "Loading model: ../trained_models/erfnet.py\n",
            "Loading weights: ../trained_models/erfnet_pretrained.pth\n",
            "Model and weights LOADED successfully\n",
            "Validation_Dataset/RoadAnomaly21/images/4.png\n",
            "Validation_Dataset/RoadAnomaly21/images/8.png\n",
            "Validation_Dataset/RoadAnomaly21/images/1.png\n",
            "Validation_Dataset/RoadAnomaly21/images/2.png\n",
            "Validation_Dataset/RoadAnomaly21/images/3.png\n",
            "Validation_Dataset/RoadAnomaly21/images/9.png\n",
            "Validation_Dataset/RoadAnomaly21/images/5.png\n",
            "Validation_Dataset/RoadAnomaly21/images/6.png\n",
            "Validation_Dataset/RoadAnomaly21/images/7.png\n",
            "Validation_Dataset/RoadAnomaly21/images/0.png\n",
            "TEST MAX LOGIT\n",
            "[[[-6.42468491e+01 -5.71681366e+01 -6.97947311e+01 ... -4.40579300e+01\n",
            "   -2.17855797e+01 -2.32358742e+01]\n",
            "  [-6.19318047e+01 -5.13292465e+01 -6.42126923e+01 ... -2.48511810e+01\n",
            "   -1.69296093e+01 -8.64990520e+00]\n",
            "  [-5.70229874e+01 -5.44737091e+01 -5.75215530e+01 ... -1.04851055e+01\n",
            "   -5.44575424e+01 -3.09074993e+01]\n",
            "  ...\n",
            "  [ 4.33152199e-01  1.18065500e+01 -1.16739912e+01 ... -3.97692108e+01\n",
            "   -3.14656181e+01 -2.11143227e+01]\n",
            "  [-3.28246593e+00 -3.47596788e+00 -2.13153133e+01 ... -2.65121555e+01\n",
            "   -1.47400169e+01 -1.55289745e+01]\n",
            "  [-3.25085306e+00 -6.82992935e-02 -1.33481236e+01 ... -2.05747452e+01\n",
            "   -1.13563862e+01 -1.09067106e+01]]\n",
            "\n",
            " [[-5.19409981e+01 -7.13054581e+01 -8.95657883e+01 ... -2.40104504e+01\n",
            "   -1.20452442e+01 -2.30964584e+01]\n",
            "  [-4.84835548e+01 -5.26406326e+01 -6.43026657e+01 ... -2.14556561e+01\n",
            "   -8.74428177e+00 -2.03481579e+01]\n",
            "  [-1.12806938e+02 -1.38505096e+02 -1.50190506e+02 ... -5.36917419e+01\n",
            "   -2.83976345e+01 -4.07532539e+01]\n",
            "  ...\n",
            "  [-2.86587410e+01 -1.42842007e+01 -1.30906620e+01 ... -9.25286865e+01\n",
            "   -6.75557632e+01 -4.71505737e+01]\n",
            "  [-1.88954391e+01 -1.12625189e+01 -8.54227448e+00 ... -4.86798935e+01\n",
            "   -3.06994190e+01 -3.33804626e+01]\n",
            "  [-2.05707188e+01 -6.28537035e+00 -1.12123909e+01 ... -3.86381912e+01\n",
            "   -2.51807346e+01 -2.80899525e+01]]\n",
            "\n",
            " [[-2.31920376e+01 -1.72673740e+01 -3.02724133e+01 ... -1.01604872e+01\n",
            "   -1.66283321e+01 -7.82259750e+00]\n",
            "  [-2.21185684e+01 -1.24196196e+01 -2.63500595e+01 ... -1.96336198e+00\n",
            "   -1.58237362e+01 -3.59783220e+00]\n",
            "  [-2.26799355e+01 -3.05744705e+01 -3.70163956e+01 ... -8.86501217e+00\n",
            "   -2.33475513e+01 -1.14467325e+01]\n",
            "  ...\n",
            "  [-2.22536182e+01 -1.92773914e+01 -3.17838402e+01 ... -5.37928009e+01\n",
            "   -4.63250084e+01 -3.19762535e+01]\n",
            "  [-1.59499474e+01 -1.38333454e+01 -3.11982803e+01 ... -3.45357628e+01\n",
            "   -2.63693199e+01 -2.99193382e+01]\n",
            "  [-1.67723465e+01 -1.42996721e+01 -2.82380886e+01 ... -2.82599049e+01\n",
            "   -2.24139538e+01 -2.58912411e+01]]\n",
            "\n",
            " ...\n",
            "\n",
            " [[-1.66070671e+01 -1.22758894e+01 -4.52191949e-01 ... -4.39353657e+00\n",
            "   -1.14940443e+01 -4.59746027e+00]\n",
            "  [-2.02867565e+01 -1.15616226e+01 -1.88441634e+00 ...  8.03346157e+00\n",
            "   -8.98759842e+00  5.21058226e+00]\n",
            "  [-4.90089798e+00 -2.89986396e+00 -2.87247906e+01 ... -5.14036417e+00\n",
            "   -2.90148373e+01 -1.19414806e+00]\n",
            "  ...\n",
            "  [-1.27510138e+01 -1.00901041e+01 -1.45471191e+01 ... -8.95514526e+01\n",
            "   -3.36624374e+01 -4.96623878e+01]\n",
            "  [-1.00480394e+01 -1.03532581e+01 -1.52399693e+01 ... -8.83022232e+01\n",
            "   -3.89021263e+01 -5.07755394e+01]\n",
            "  [-8.01585484e+00 -6.52638674e+00 -1.07861233e+01 ... -7.11304626e+01\n",
            "   -2.89369812e+01 -3.93123856e+01]]\n",
            "\n",
            " [[-5.09453249e+00 -4.48194265e+00 -6.19313192e+00 ... -1.02962637e+01\n",
            "   -9.24526882e+00 -1.87305279e+01]\n",
            "  [-4.76806259e+00 -3.37997580e+00 -6.16996479e+00 ... -2.60929847e+00\n",
            "   -8.24756527e+00 -8.79184532e+00]\n",
            "  [-5.84432983e+00 -5.52884865e+00 -1.05736046e+01 ... -2.29025440e+01\n",
            "   -3.29610901e+01 -2.14081097e+01]\n",
            "  ...\n",
            "  [-2.91851749e+01 -2.55342579e+01 -6.54401932e+01 ... -1.08612030e+02\n",
            "   -7.74238739e+01 -7.32194443e+01]\n",
            "  [-1.40333519e+01 -1.83106384e+01 -4.37067757e+01 ... -7.71774750e+01\n",
            "   -4.50475464e+01 -6.28624344e+01]\n",
            "  [-1.08819275e+01 -9.17866611e+00 -2.98338547e+01 ... -6.83464890e+01\n",
            "   -3.47789459e+01 -5.29005699e+01]]\n",
            "\n",
            " [[ 2.97650242e+00 -6.06786370e-01 -1.27131433e+01 ... -3.76636505e+01\n",
            "   -1.63042908e+01 -2.33176937e+01]\n",
            "  [ 3.89183259e+00  3.08949327e+00 -1.41311054e+01 ... -2.48257790e+01\n",
            "   -1.47188768e+01 -1.80810013e+01]\n",
            "  [-2.23871174e+01 -2.49864349e+01 -5.96202431e+01 ... -4.53679733e+01\n",
            "   -2.39551773e+01 -2.91123447e+01]\n",
            "  ...\n",
            "  [-3.29117470e+01 -1.99107952e+01 -2.42889938e+01 ... -6.06069422e+00\n",
            "   -8.30391216e+00 -1.15681672e+00]\n",
            "  [-2.21990395e+01 -1.49137602e+01 -9.22395611e+00 ... -3.32216740e+00\n",
            "   -5.98785925e+00 -1.40888758e+01]\n",
            "  [-2.45933418e+01 -1.69360905e+01 -1.51590996e+01 ... -5.16731071e+00\n",
            "   -6.20279074e+00 -1.40780773e+01]]]\n",
            "Traceback (most recent call last):\n",
            "  File \"/content/AnomalySegmentation_CourseProjectBaseCode/eval/evalAnomaly.py\", line 152, in <module>\n",
            "    main()\n",
            "  File \"/content/AnomalySegmentation_CourseProjectBaseCode/eval/evalAnomaly.py\", line 127, in main\n",
            "    conf, _  = torch.max(nn.functional.softmax(anomaly_scores, dim=1),dim=1)\n",
            "  File \"/usr/local/lib/python3.10/dist-packages/torch/nn/functional.py\", line 1856, in softmax\n",
            "    ret = input.softmax(dim)\n",
            "AttributeError: 'numpy.ndarray' object has no attribute 'softmax'\n"
          ]
        }
      ]
    }
  ],
  "metadata": {
    "language_info": {
      "name": "python"
    },
    "colab": {
      "provenance": [],
      "gpuType": "T4",
      "include_colab_link": true
    },
    "kernelspec": {
      "name": "python3",
      "display_name": "Python 3"
    },
    "accelerator": "GPU"
  },
  "nbformat": 4,
  "nbformat_minor": 0
}