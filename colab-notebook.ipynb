{
  "cells": [
    {
      "cell_type": "markdown",
      "metadata": {
        "colab_type": "text",
        "id": "view-in-github"
      },
      "source": [
        "<a href=\"https://colab.research.google.com/github/AML-project-AnomalySegmentation/AnomalySegmentation_CourseProjectBaseCode/blob/main/colab-notebook.ipynb\" target=\"_parent\"><img src=\"https://colab.research.google.com/assets/colab-badge.svg\" alt=\"Open In Colab\"/></a>"
      ]
    },
    {
      "cell_type": "markdown",
      "metadata": {
        "id": "aDXzDAxzgsv_"
      },
      "source": [
        "# AML Project - Anomaly Segmentation"
      ]
    },
    {
      "cell_type": "markdown",
      "metadata": {
        "id": "XgDwCvkNg33C"
      },
      "source": [
        "## Notebook setup"
      ]
    },
    {
      "cell_type": "code",
      "execution_count": 1,
      "metadata": {
        "colab": {
          "base_uri": "https://localhost:8080/"
        },
        "id": "xizWY25Cfe2J",
        "outputId": "cb681f4e-82e2-49a7-e552-f1ea79a39dea"
      },
      "outputs": [
        {
          "name": "stdout",
          "output_type": "stream",
          "text": [
            "/content\n",
            "Cloning into 'AnomalySegmentation_CourseProjectBaseCode'...\n",
            "remote: Enumerating objects: 2669, done.\u001b[K\n",
            "remote: Counting objects: 100% (144/144), done.\u001b[K\n",
            "remote: Compressing objects: 100% (94/94), done.\u001b[K\n",
            "remote: Total 2669 (delta 88), reused 95 (delta 49), pack-reused 2525\u001b[K\n",
            "Receiving objects: 100% (2669/2669), 370.15 MiB | 34.29 MiB/s, done.\n",
            "Resolving deltas: 100% (607/607), done.\n",
            "Updating files: 100% (2498/2498), done.\n"
          ]
        }
      ],
      "source": [
        "%cd /content\n",
        "!rm -r AnomalySegmentation_CourseProjectBaseCode\n",
        "!git clone https://github.com/AML-project-AnomalySegmentation/AnomalySegmentation_CourseProjectBaseCode.git\n",
        "!jar xvf \"/content/AnomalySegmentation_CourseProjectBaseCode/dataset/Cityscapes.zip\""
      ]
    },
    {
      "cell_type": "code",
      "execution_count": 2,
      "metadata": {
        "colab": {
          "base_uri": "https://localhost:8080/"
        },
        "id": "9I1wqrP7hVTQ",
        "outputId": "6f8113f2-de2e-4260-ec8f-b945b047b4a6"
      },
      "outputs": [
        {
          "name": "stdout",
          "output_type": "stream",
          "text": [
            "Requirement already satisfied: visdom in /usr/local/lib/python3.10/dist-packages (0.2.4)\n",
            "Requirement already satisfied: numpy>=1.8 in /usr/local/lib/python3.10/dist-packages (from visdom) (1.23.5)\n",
            "Requirement already satisfied: scipy in /usr/local/lib/python3.10/dist-packages (from visdom) (1.11.4)\n",
            "Requirement already satisfied: requests in /usr/local/lib/python3.10/dist-packages (from visdom) (2.31.0)\n",
            "Requirement already satisfied: tornado in /usr/local/lib/python3.10/dist-packages (from visdom) (6.3.2)\n",
            "Requirement already satisfied: six in /usr/local/lib/python3.10/dist-packages (from visdom) (1.16.0)\n",
            "Requirement already satisfied: jsonpatch in /usr/local/lib/python3.10/dist-packages (from visdom) (1.33)\n",
            "Requirement already satisfied: websocket-client in /usr/local/lib/python3.10/dist-packages (from visdom) (1.7.0)\n",
            "Requirement already satisfied: networkx in /usr/local/lib/python3.10/dist-packages (from visdom) (3.2.1)\n",
            "Requirement already satisfied: pillow in /usr/local/lib/python3.10/dist-packages (from visdom) (9.4.0)\n",
            "Requirement already satisfied: jsonpointer>=1.9 in /usr/local/lib/python3.10/dist-packages (from jsonpatch->visdom) (2.4)\n",
            "Requirement already satisfied: charset-normalizer<4,>=2 in /usr/local/lib/python3.10/dist-packages (from requests->visdom) (3.3.2)\n",
            "Requirement already satisfied: idna<4,>=2.5 in /usr/local/lib/python3.10/dist-packages (from requests->visdom) (3.6)\n",
            "Requirement already satisfied: urllib3<3,>=1.21.1 in /usr/local/lib/python3.10/dist-packages (from requests->visdom) (2.0.7)\n",
            "Requirement already satisfied: certifi>=2017.4.17 in /usr/local/lib/python3.10/dist-packages (from requests->visdom) (2023.11.17)\n",
            "Requirement already satisfied: ood_metrics in /usr/local/lib/python3.10/dist-packages (1.1.2)\n",
            "Requirement already satisfied: matplotlib<4.0,>=3.0 in /usr/local/lib/python3.10/dist-packages (from ood_metrics) (3.7.1)\n",
            "Requirement already satisfied: numpy<2.0,>=1.22 in /usr/local/lib/python3.10/dist-packages (from ood_metrics) (1.23.5)\n",
            "Requirement already satisfied: scikit-learn<2.0,>=1.0 in /usr/local/lib/python3.10/dist-packages (from ood_metrics) (1.2.2)\n",
            "Requirement already satisfied: contourpy>=1.0.1 in /usr/local/lib/python3.10/dist-packages (from matplotlib<4.0,>=3.0->ood_metrics) (1.2.0)\n",
            "Requirement already satisfied: cycler>=0.10 in /usr/local/lib/python3.10/dist-packages (from matplotlib<4.0,>=3.0->ood_metrics) (0.12.1)\n",
            "Requirement already satisfied: fonttools>=4.22.0 in /usr/local/lib/python3.10/dist-packages (from matplotlib<4.0,>=3.0->ood_metrics) (4.47.0)\n",
            "Requirement already satisfied: kiwisolver>=1.0.1 in /usr/local/lib/python3.10/dist-packages (from matplotlib<4.0,>=3.0->ood_metrics) (1.4.5)\n",
            "Requirement already satisfied: packaging>=20.0 in /usr/local/lib/python3.10/dist-packages (from matplotlib<4.0,>=3.0->ood_metrics) (23.2)\n",
            "Requirement already satisfied: pillow>=6.2.0 in /usr/local/lib/python3.10/dist-packages (from matplotlib<4.0,>=3.0->ood_metrics) (9.4.0)\n",
            "Requirement already satisfied: pyparsing>=2.3.1 in /usr/local/lib/python3.10/dist-packages (from matplotlib<4.0,>=3.0->ood_metrics) (3.1.1)\n",
            "Requirement already satisfied: python-dateutil>=2.7 in /usr/local/lib/python3.10/dist-packages (from matplotlib<4.0,>=3.0->ood_metrics) (2.8.2)\n",
            "Requirement already satisfied: scipy>=1.3.2 in /usr/local/lib/python3.10/dist-packages (from scikit-learn<2.0,>=1.0->ood_metrics) (1.11.4)\n",
            "Requirement already satisfied: joblib>=1.1.1 in /usr/local/lib/python3.10/dist-packages (from scikit-learn<2.0,>=1.0->ood_metrics) (1.3.2)\n",
            "Requirement already satisfied: threadpoolctl>=2.0.0 in /usr/local/lib/python3.10/dist-packages (from scikit-learn<2.0,>=1.0->ood_metrics) (3.2.0)\n",
            "Requirement already satisfied: six>=1.5 in /usr/local/lib/python3.10/dist-packages (from python-dateutil>=2.7->matplotlib<4.0,>=3.0->ood_metrics) (1.16.0)\n"
          ]
        }
      ],
      "source": [
        "!pip3 install visdom\n",
        "!pip3 install ood_metrics"
      ]
    },
    {
      "cell_type": "code",
      "execution_count": 3,
      "metadata": {
        "colab": {
          "base_uri": "https://localhost:8080/"
        },
        "id": "GRi9_WiAcycC",
        "outputId": "b2b91f93-13a4-4648-a52d-ba455d8f8e51"
      },
      "outputs": [
        {
          "name": "stdout",
          "output_type": "stream",
          "text": [
            "/content/AnomalySegmentation_CourseProjectBaseCode/eval\n"
          ]
        }
      ],
      "source": [
        "%cd AnomalySegmentation_CourseProjectBaseCode/eval"
      ]
    },
    {
      "cell_type": "markdown",
      "metadata": {
        "id": "sQrMXBZ3hO-Z"
      },
      "source": [
        "## Steps"
      ]
    },
    {
      "cell_type": "markdown",
      "metadata": {
        "id": "tDiDaNY7hXmC"
      },
      "source": [
        "### Step 2A"
      ]
    },
    {
      "cell_type": "code",
      "execution_count": null,
      "metadata": {
        "colab": {
          "base_uri": "https://localhost:8080/"
        },
        "id": "R9Gfeiv2hc1O",
        "outputId": "06b8f449-9795-438b-fe56-7603993b67d7"
      },
      "outputs": [],
      "source": [
        "DATASETS = [\"RoadAnomaly21\", \"RoadObsticle21\", \"FS_LostFound_full\", \"fs_static\", \"RoadAnomaly\"]\n",
        "DISCRIMINANTS = [\"msp\", \"maxlogit\", \"maxentropy\"]\n",
        "for d in (DATASETS):\n",
        "  path = f\"'Validation_Dataset/{d}/images/*.*'\"\n",
        "  for disc in (DISCRIMINANTS):\n",
        "    print(f\"Dataset: {d} Discriminant: {disc}\")\n",
        "    !python evalAnomaly.py  --input {path} --discriminant {disc}"
      ]
    },
    {
      "cell_type": "code",
      "execution_count": null,
      "metadata": {},
      "outputs": [],
      "source": [
        "DISCRIMINANTS = [\"msp\", \"maxlogit\", \"maxentropy\"]\n",
        "for d in DISCRIMINANTS:\n",
        "   !python eval_iou.py --discriminant {d}"
      ]
    },
    {
      "cell_type": "code",
      "execution_count": null,
      "metadata": {},
      "outputs": [],
      "source": [
        "TEMPERATURE = [0.5, 0.75, 1.1]\n",
        "for d in TEMPERATURE:\n",
        "   !python eval_iou.py --temperature {d}"
      ]
    },
    {
      "cell_type": "code",
      "execution_count": null,
      "metadata": {},
      "outputs": [],
      "source": [
        "DATASETS = [\"RoadAnomaly21\", \"RoadObsticle21\", \"FS_LostFound_full\", \"fs_static\", \"RoadAnomaly\"]\n",
        "path = f\"'Validation_Dataset/'\"\n",
        "print(f\"Dataset: {d}\")\n",
        "!python optimalTemperature.py  --input {path}"
      ]
    },
    {
      "cell_type": "markdown",
      "metadata": {
        "id": "lSqok2nrhdbE"
      },
      "source": [
        "### Step 2B"
      ]
    },
    {
      "cell_type": "code",
      "execution_count": null,
      "metadata": {
        "colab": {
          "base_uri": "https://localhost:8080/"
        },
        "id": "GHnxyL9yea_-",
        "outputId": "aa357b4c-8fe4-4369-ab4e-bbb9680fdd98"
      },
      "outputs": [],
      "source": [
        "DATASETS = [\"RoadAnomaly21\", \"RoadObsticle21\", \"FS_LostFound_full\", \"fs_static\", \"RoadAnomaly\"]\n",
        "TEMPERATURES = [1,0.5,0.75,1.1]\n",
        "for d in (DATASETS):\n",
        "  path = f\"'Validation_Dataset/{d}/images/*.*'\"\n",
        "  for t in (TEMPERATURES):\n",
        "    print(f\"Dataset: {d} Temeperature: {t}\")\n",
        "    !python evalAnomaly.py  --input {path} --temperature {t}\n"
      ]
    },
    {
      "cell_type": "markdown",
      "metadata": {},
      "source": [
        "## Step 3"
      ]
    },
    {
      "cell_type": "code",
      "execution_count": null,
      "metadata": {},
      "outputs": [],
      "source": [
        "DATASETS = [\"RoadAnomaly21\", \"RoadObsticle21\", \"FS_LostFound_full\", \"fs_static\", \"RoadAnomaly\"]\n",
        "MODELS = [\"ErfNet\", \"ENet\", \"BiseNet\"]\n",
        "for m in MODELS: \n",
        "  for d in (DATASETS):\n",
        "    path = f\"'Validation_Dataset/{d}/images/*.*'\"\n",
        "    print(f\"Dataset: {d}\")\n",
        "    !python VoidEvalAnomaly.py  --input {path} --model {m}"
      ]
    }
  ],
  "metadata": {
    "accelerator": "GPU",
    "colab": {
      "gpuType": "T4",
      "include_colab_link": true,
      "provenance": []
    },
    "kernelspec": {
      "display_name": "Python 3",
      "name": "python3"
    },
    "language_info": {
      "name": "python"
    }
  },
  "nbformat": 4,
  "nbformat_minor": 0
}
