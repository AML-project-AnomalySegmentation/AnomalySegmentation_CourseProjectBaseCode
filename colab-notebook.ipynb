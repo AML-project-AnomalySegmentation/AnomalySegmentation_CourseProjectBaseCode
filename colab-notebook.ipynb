{
  "cells": [
    {
      "cell_type": "code",
      "execution_count": 1,
      "metadata": {
        "id": "hpXfi3BmcaO-",
        "outputId": "e66ee1b9-48f2-469e-bc4a-8332ab2356c9",
        "colab": {
          "base_uri": "https://localhost:8080/"
        }
      },
      "outputs": [
        {
          "output_type": "stream",
          "name": "stdout",
          "text": [
            "Cloning into 'AnomalySegmentation_CourseProjectBaseCode'...\n",
            "remote: Enumerating objects: 83, done.\u001b[K\n",
            "remote: Counting objects: 100% (32/32), done.\u001b[K\n",
            "remote: Compressing objects: 100% (22/22), done.\u001b[K\n",
            "remote: Total 83 (delta 15), reused 17 (delta 10), pack-reused 51\u001b[K\n",
            "Receiving objects: 100% (83/83), 21.49 MiB | 27.78 MiB/s, done.\n",
            "Resolving deltas: 100% (29/29), done.\n"
          ]
        }
      ],
      "source": [
        "!git clone https://github.com/AML-project-AnomalySegmentation/AnomalySegmentation_CourseProjectBaseCode.git"
      ]
    },
    {
      "cell_type": "code",
      "source": [
        "%cd AnomalySegmentation_CourseProjectBaseCode/eval"
      ],
      "metadata": {
        "id": "GRi9_WiAcycC",
        "outputId": "2b3baf9c-3a72-4341-bb80-063598c0da9f",
        "colab": {
          "base_uri": "https://localhost:8080/"
        }
      },
      "execution_count": 2,
      "outputs": [
        {
          "output_type": "stream",
          "name": "stdout",
          "text": [
            "/content/AnomalySegmentation_CourseProjectBaseCode/eval\n"
          ]
        }
      ]
    }
  ],
  "metadata": {
    "language_info": {
      "name": "python"
    },
    "colab": {
      "provenance": [],
      "gpuType": "T4"
    },
    "kernelspec": {
      "name": "python3",
      "display_name": "Python 3"
    },
    "accelerator": "GPU"
  },
  "nbformat": 4,
  "nbformat_minor": 0
}