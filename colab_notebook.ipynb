{
  "cells": [
    {
      "cell_type": "markdown",
      "metadata": {
        "id": "aDXzDAxzgsv_"
      },
      "source": [
        "# AML Project - Anomaly Segmentation"
      ]
    },
    {
      "cell_type": "markdown",
      "metadata": {
        "id": "XgDwCvkNg33C"
      },
      "source": [
        "## Notebook setup"
      ]
    },
    {
      "cell_type": "code",
      "execution_count": 1,
      "metadata": {
        "colab": {
          "base_uri": "https://localhost:8080/"
        },
        "id": "xizWY25Cfe2J",
        "outputId": "13ebf7c6-b0bc-44b1-a741-ba7614bce4a8"
      },
      "outputs": [
        {
          "name": "stdout",
          "output_type": "stream",
          "text": [
            "/content\n",
            "rm: cannot remove 'AnomalySegmentation_CourseProjectBaseCode': No such file or directory\n",
            "Cloning into 'AnomalySegmentation_CourseProjectBaseCode'...\n",
            "remote: Enumerating objects: 21917, done.\u001b[K\n",
            "remote: Counting objects: 100% (2716/2716), done.\u001b[K\n",
            "remote: Compressing objects: 100% (2702/2702), done.\u001b[K\n",
            "remote: Total 21917 (delta 15), reused 2714 (delta 14), pack-reused 19201\u001b[K\n",
            "Receiving objects: 100% (21917/21917), 11.97 GiB | 43.65 MiB/s, done.\n",
            "Resolving deltas: 100% (3809/3809), done.\n",
            "Updating files: 100% (27414/27414), done.\n"
          ]
        }
      ],
      "source": [
        "%cd /content\n",
        "!rm -r AnomalySegmentation_CourseProjectBaseCode\n",
        "!git clone https://github.com/AML-project-AnomalySegmentation/AnomalySegmentation_CourseProjectBaseCode.git\n"
      ]
    },
    {
      "cell_type": "code",
      "execution_count": 13,
      "metadata": {
        "colab": {
          "base_uri": "https://localhost:8080/",
          "height": 1000
        },
        "id": "9I1wqrP7hVTQ",
        "outputId": "2a5e8ff7-df33-4d0e-e211-31616f2dbddb"
      },
      "outputs": [
        {
          "name": "stdout",
          "output_type": "stream",
          "text": [
            "Requirement already satisfied: visdom in /usr/local/lib/python3.10/dist-packages (0.2.4)\n",
            "Requirement already satisfied: numpy>=1.8 in /usr/local/lib/python3.10/dist-packages (from visdom) (1.25.2)\n",
            "Requirement already satisfied: scipy in /usr/local/lib/python3.10/dist-packages (from visdom) (1.11.4)\n",
            "Requirement already satisfied: requests in /usr/local/lib/python3.10/dist-packages (from visdom) (2.31.0)\n",
            "Requirement already satisfied: tornado in /usr/local/lib/python3.10/dist-packages (from visdom) (6.3.2)\n",
            "Requirement already satisfied: six in /usr/local/lib/python3.10/dist-packages (from visdom) (1.16.0)\n",
            "Requirement already satisfied: jsonpatch in /usr/local/lib/python3.10/dist-packages (from visdom) (1.33)\n",
            "Requirement already satisfied: websocket-client in /usr/local/lib/python3.10/dist-packages (from visdom) (1.7.0)\n",
            "Requirement already satisfied: networkx in /usr/local/lib/python3.10/dist-packages (from visdom) (3.2.1)\n",
            "Requirement already satisfied: pillow in /usr/local/lib/python3.10/dist-packages (from visdom) (9.4.0)\n",
            "Requirement already satisfied: jsonpointer>=1.9 in /usr/local/lib/python3.10/dist-packages (from jsonpatch->visdom) (2.4)\n",
            "Requirement already satisfied: charset-normalizer<4,>=2 in /usr/local/lib/python3.10/dist-packages (from requests->visdom) (3.3.2)\n",
            "Requirement already satisfied: idna<4,>=2.5 in /usr/local/lib/python3.10/dist-packages (from requests->visdom) (3.6)\n",
            "Requirement already satisfied: urllib3<3,>=1.21.1 in /usr/local/lib/python3.10/dist-packages (from requests->visdom) (2.0.7)\n",
            "Requirement already satisfied: certifi>=2017.4.17 in /usr/local/lib/python3.10/dist-packages (from requests->visdom) (2024.2.2)\n",
            "Requirement already satisfied: ood_metrics in /usr/local/lib/python3.10/dist-packages (1.1.2)\n",
            "Requirement already satisfied: matplotlib<4.0,>=3.0 in /usr/local/lib/python3.10/dist-packages (from ood_metrics) (3.7.1)\n",
            "Requirement already satisfied: numpy<2.0,>=1.22 in /usr/local/lib/python3.10/dist-packages (from ood_metrics) (1.25.2)\n",
            "Requirement already satisfied: scikit-learn<2.0,>=1.0 in /usr/local/lib/python3.10/dist-packages (from ood_metrics) (1.2.2)\n",
            "Requirement already satisfied: contourpy>=1.0.1 in /usr/local/lib/python3.10/dist-packages (from matplotlib<4.0,>=3.0->ood_metrics) (1.2.0)\n",
            "Requirement already satisfied: cycler>=0.10 in /usr/local/lib/python3.10/dist-packages (from matplotlib<4.0,>=3.0->ood_metrics) (0.12.1)\n",
            "Requirement already satisfied: fonttools>=4.22.0 in /usr/local/lib/python3.10/dist-packages (from matplotlib<4.0,>=3.0->ood_metrics) (4.48.1)\n",
            "Requirement already satisfied: kiwisolver>=1.0.1 in /usr/local/lib/python3.10/dist-packages (from matplotlib<4.0,>=3.0->ood_metrics) (1.4.5)\n",
            "Requirement already satisfied: packaging>=20.0 in /usr/local/lib/python3.10/dist-packages (from matplotlib<4.0,>=3.0->ood_metrics) (23.2)\n",
            "Requirement already satisfied: pillow>=6.2.0 in /usr/local/lib/python3.10/dist-packages (from matplotlib<4.0,>=3.0->ood_metrics) (9.4.0)\n",
            "Requirement already satisfied: pyparsing>=2.3.1 in /usr/local/lib/python3.10/dist-packages (from matplotlib<4.0,>=3.0->ood_metrics) (3.1.1)\n",
            "Requirement already satisfied: python-dateutil>=2.7 in /usr/local/lib/python3.10/dist-packages (from matplotlib<4.0,>=3.0->ood_metrics) (2.8.2)\n",
            "Requirement already satisfied: scipy>=1.3.2 in /usr/local/lib/python3.10/dist-packages (from scikit-learn<2.0,>=1.0->ood_metrics) (1.11.4)\n",
            "Requirement already satisfied: joblib>=1.1.1 in /usr/local/lib/python3.10/dist-packages (from scikit-learn<2.0,>=1.0->ood_metrics) (1.3.2)\n",
            "Requirement already satisfied: threadpoolctl>=2.0.0 in /usr/local/lib/python3.10/dist-packages (from scikit-learn<2.0,>=1.0->ood_metrics) (3.2.0)\n",
            "Requirement already satisfied: six>=1.5 in /usr/local/lib/python3.10/dist-packages (from python-dateutil>=2.7->matplotlib<4.0,>=3.0->ood_metrics) (1.16.0)\n",
            "Collecting cityscapesScripts\n",
            "  Downloading cityscapesScripts-2.2.2-py3-none-any.whl (473 kB)\n",
            "\u001b[2K     \u001b[90m━━━━━━━━━━━━━━━━━━━━━━━━━━━━━━━━━━━━━━━━\u001b[0m \u001b[32m473.3/473.3 kB\u001b[0m \u001b[31m8.5 MB/s\u001b[0m eta \u001b[36m0:00:00\u001b[0m\n",
            "\u001b[?25hRequirement already satisfied: numpy in /usr/local/lib/python3.10/dist-packages (from cityscapesScripts) (1.25.2)\n",
            "Requirement already satisfied: matplotlib in /usr/local/lib/python3.10/dist-packages (from cityscapesScripts) (3.7.1)\n",
            "Requirement already satisfied: pillow in /usr/local/lib/python3.10/dist-packages (from cityscapesScripts) (9.4.0)\n",
            "Requirement already satisfied: appdirs in /usr/local/lib/python3.10/dist-packages (from cityscapesScripts) (1.4.4)\n",
            "Collecting pyquaternion (from cityscapesScripts)\n",
            "  Downloading pyquaternion-0.9.9-py3-none-any.whl (14 kB)\n",
            "Collecting coloredlogs (from cityscapesScripts)\n",
            "  Downloading coloredlogs-15.0.1-py2.py3-none-any.whl (46 kB)\n",
            "\u001b[2K     \u001b[90m━━━━━━━━━━━━━━━━━━━━━━━━━━━━━━━━━━━━━━━━\u001b[0m \u001b[32m46.0/46.0 kB\u001b[0m \u001b[31m5.8 MB/s\u001b[0m eta \u001b[36m0:00:00\u001b[0m\n",
            "\u001b[?25hRequirement already satisfied: tqdm in /usr/local/lib/python3.10/dist-packages (from cityscapesScripts) (4.66.1)\n",
            "Collecting typing (from cityscapesScripts)\n",
            "  Downloading typing-3.7.4.3.tar.gz (78 kB)\n",
            "\u001b[2K     \u001b[90m━━━━━━━━━━━━━━━━━━━━━━━━━━━━━━━━━━━━━━━━\u001b[0m \u001b[32m78.6/78.6 kB\u001b[0m \u001b[31m11.1 MB/s\u001b[0m eta \u001b[36m0:00:00\u001b[0m\n",
            "\u001b[?25h  Preparing metadata (setup.py) ... \u001b[?25l\u001b[?25hdone\n",
            "Collecting humanfriendly>=9.1 (from coloredlogs->cityscapesScripts)\n",
            "  Downloading humanfriendly-10.0-py2.py3-none-any.whl (86 kB)\n",
            "\u001b[2K     \u001b[90m━━━━━━━━━━━━━━━━━━━━━━━━━━━━━━━━━━━━━━━━\u001b[0m \u001b[32m86.8/86.8 kB\u001b[0m \u001b[31m10.9 MB/s\u001b[0m eta \u001b[36m0:00:00\u001b[0m\n",
            "\u001b[?25hRequirement already satisfied: contourpy>=1.0.1 in /usr/local/lib/python3.10/dist-packages (from matplotlib->cityscapesScripts) (1.2.0)\n",
            "Requirement already satisfied: cycler>=0.10 in /usr/local/lib/python3.10/dist-packages (from matplotlib->cityscapesScripts) (0.12.1)\n",
            "Requirement already satisfied: fonttools>=4.22.0 in /usr/local/lib/python3.10/dist-packages (from matplotlib->cityscapesScripts) (4.48.1)\n",
            "Requirement already satisfied: kiwisolver>=1.0.1 in /usr/local/lib/python3.10/dist-packages (from matplotlib->cityscapesScripts) (1.4.5)\n",
            "Requirement already satisfied: packaging>=20.0 in /usr/local/lib/python3.10/dist-packages (from matplotlib->cityscapesScripts) (23.2)\n",
            "Requirement already satisfied: pyparsing>=2.3.1 in /usr/local/lib/python3.10/dist-packages (from matplotlib->cityscapesScripts) (3.1.1)\n",
            "Requirement already satisfied: python-dateutil>=2.7 in /usr/local/lib/python3.10/dist-packages (from matplotlib->cityscapesScripts) (2.8.2)\n",
            "Requirement already satisfied: six>=1.5 in /usr/local/lib/python3.10/dist-packages (from python-dateutil>=2.7->matplotlib->cityscapesScripts) (1.16.0)\n",
            "Building wheels for collected packages: typing\n",
            "  Building wheel for typing (setup.py) ... \u001b[?25l\u001b[?25hdone\n",
            "  Created wheel for typing: filename=typing-3.7.4.3-py3-none-any.whl size=26304 sha256=ebefabecb9a002a2a4db8a959c69fef7d2bfeee238c54494478201922f88a5fa\n",
            "  Stored in directory: /root/.cache/pip/wheels/7c/d0/9e/1f26ebb66d9e1732e4098bc5a6c2d91f6c9a529838f0284890\n",
            "Successfully built typing\n",
            "Installing collected packages: typing, pyquaternion, humanfriendly, coloredlogs, cityscapesScripts\n",
            "Successfully installed cityscapesScripts-2.2.2 coloredlogs-15.0.1 humanfriendly-10.0 pyquaternion-0.9.9 typing-3.7.4.3\n"
          ]
        },
        {
          "data": {
            "application/vnd.colab-display-data+json": {
              "pip_warning": {
                "packages": [
                  "typing"
                ]
              }
            }
          },
          "metadata": {},
          "output_type": "display_data"
        }
      ],
      "source": [
        "!pip3 install visdom\n",
        "!pip3 install ood_metrics\n",
        "!pip3 install cityscapesScripts\n"
      ]
    },
    {
      "cell_type": "markdown",
      "metadata": {
        "id": "sQrMXBZ3hO-Z"
      },
      "source": [
        "## Steps"
      ]
    },
    {
      "cell_type": "code",
      "execution_count": 1,
      "metadata": {
        "colab": {
          "base_uri": "https://localhost:8080/"
        },
        "id": "GRi9_WiAcycC",
        "outputId": "91311e14-0b91-45e0-83ac-f4e9dfaf4663"
      },
      "outputs": [
        {
          "name": "stdout",
          "output_type": "stream",
          "text": [
            "/content/AnomalySegmentation_CourseProjectBaseCode/eval\n",
            "../dataset/Cityscapes\n",
            "Processing 5000 annotation files\n",
            "Progress: 5.32 % "
          ]
        },
        {
          "name": "stderr",
          "output_type": "stream",
          "text": [
            "Exception in thread Thread-5 (attachment_entry):\n",
            "Traceback (most recent call last):\n",
            "  File \"/usr/local/lib/python3.10/dist-packages/debugpy/server/api.py\", line 237, in listen\n",
            "    sock, _ = endpoints_listener.accept()\n",
            "  File \"/usr/lib/python3.10/socket.py\", line 293, in accept\n",
            "    fd, addr = self._accept()\n",
            "TimeoutError: timed out\n",
            "\n",
            "During handling of the above exception, another exception occurred:\n",
            "\n",
            "Traceback (most recent call last):\n",
            "  File \"/usr/lib/python3.10/threading.py\", line 1016, in _bootstrap_inner\n",
            "    self.run()\n",
            "  File \"/usr/lib/python3.10/threading.py\", line 953, in run\n",
            "    self._target(*self._args, **self._kwargs)\n",
            "  File \"/usr/local/lib/python3.10/dist-packages/google/colab/_debugpy.py\", line 52, in attachment_entry\n",
            "    debugpy.listen(_dap_port)\n",
            "  File \"/usr/local/lib/python3.10/dist-packages/debugpy/public_api.py\", line 31, in wrapper\n",
            "    return wrapped(*args, **kwargs)\n",
            "  File \"/usr/local/lib/python3.10/dist-packages/debugpy/server/api.py\", line 143, in debug\n",
            "    log.reraise_exception(\"{0}() failed:\", func.__name__, level=\"info\")\n",
            "  File \"/usr/local/lib/python3.10/dist-packages/debugpy/server/api.py\", line 141, in debug\n",
            "    return func(address, settrace_kwargs, **kwargs)\n",
            "  File \"/usr/local/lib/python3.10/dist-packages/debugpy/server/api.py\", line 251, in listen\n",
            "    raise RuntimeError(\"timed out waiting for adapter to connect\")\n",
            "RuntimeError: timed out waiting for adapter to connect\n"
          ]
        },
        {
          "name": "stdout",
          "output_type": "stream",
          "text": [
            "Progress: 100.0 % "
          ]
        }
      ],
      "source": [
        "%cd /content/AnomalySegmentation_CourseProjectBaseCode/eval\n",
        "!python converter.py"
      ]
    },
    {
      "cell_type": "markdown",
      "metadata": {
        "id": "tDiDaNY7hXmC"
      },
      "source": [
        "### Step 2A"
      ]
    },
    {
      "cell_type": "code",
      "execution_count": null,
      "metadata": {
        "id": "R9Gfeiv2hc1O"
      },
      "outputs": [],
      "source": [
        "DATASETS = [\"RoadAnomaly21\", \"RoadObsticle21\", \"FS_LostFound_full\", \"fs_static\", \"RoadAnomaly\"]\n",
        "DISCRIMINANTS = [\"msp\", \"maxlogit\", \"maxentropy\"]\n",
        "for d in (DATASETS):\n",
        "  path = f\"'Validation_Dataset/{d}/images/*.*'\"\n",
        "  for disc in (DISCRIMINANTS):\n",
        "    print(f\"Dataset: {d} Discriminant: {disc}\")\n",
        "    !python evalAnomaly.py  --input {path} --discriminant {disc}"
      ]
    },
    {
      "cell_type": "code",
      "execution_count": null,
      "metadata": {
        "id": "I4bfhfAoBtKO"
      },
      "outputs": [],
      "source": [
        "DISCRIMINANTS = [\"msp\", \"maxlogit\", \"maxentropy\"]\n",
        "for d in DISCRIMINANTS:\n",
        "   !python eval_iou.py --discriminant {d}"
      ]
    },
    {
      "cell_type": "code",
      "execution_count": null,
      "metadata": {
        "id": "aVTx6zGZBtKP"
      },
      "outputs": [],
      "source": [
        "TEMPERATURE = [0.5, 0.75, 1.1]\n",
        "for d in TEMPERATURE:\n",
        "   !python eval_iou.py --temperature {d}"
      ]
    },
    {
      "cell_type": "code",
      "execution_count": 6,
      "metadata": {
        "colab": {
          "base_uri": "https://localhost:8080/"
        },
        "id": "AP5xPAB1BtKP",
        "outputId": "e8bd8387-9238-4246-bcf4-54789340c5ef"
      },
      "outputs": [
        {
          "name": "stdout",
          "output_type": "stream",
          "text": [
            "Loading model: ../trained_models/erfnet.py\n",
            "Loading weights: ../trained_models/erfnet_pretrained.pth\n",
            "Model and weights LOADED successfully\n",
            "/\n",
            "ROOT: ../dataset/Cityscapes\n",
            "IMAGES: ../dataset/Cityscapes/leftImg8bit/val\n",
            "LABELS: ../dataset/Cityscapes/gtFine/val\n",
            "../dataset/Cityscapes/leftImg8bit/val ../dataset/Cityscapes/gtFine/val\n",
            "/usr/local/lib/python3.10/dist-packages/torch/utils/data/dataloader.py:557: UserWarning: This DataLoader will create 4 worker processes in total. Our suggested max number of worker in current system is 2, which is smaller than what this DataLoader is going to create. Please be aware that excessive worker creation might get DataLoader running slow or even freeze, lower the worker number to avoid potential slowness/freeze if necessary.\n",
            "  warnings.warn(_create_warning_msg(\n",
            "Before temperature - NLL: 11.816, ECE: 0.000\n",
            "Optimal temperature: 10.495\n",
            "After temperature - NLL: 3.248, ECE: 0.000\n",
            "Done!\n"
          ]
        }
      ],
      "source": [
        "!python optimalTemperature.py"
      ]
    },
    {
      "cell_type": "markdown",
      "metadata": {
        "id": "lSqok2nrhdbE"
      },
      "source": [
        "### Step 2B"
      ]
    },
    {
      "cell_type": "code",
      "execution_count": null,
      "metadata": {
        "id": "GHnxyL9yea_-"
      },
      "outputs": [],
      "source": [
        "DATASETS = [\"RoadAnomaly21\", \"RoadObsticle21\", \"FS_LostFound_full\", \"fs_static\", \"RoadAnomaly\"]\n",
        "TEMPERATURES = [1,0.5,0.75,1.1]\n",
        "for d in (DATASETS):\n",
        "  path = f\"'Validation_Dataset/{d}/images/*.*'\"\n",
        "  for t in (TEMPERATURES):\n",
        "    print(f\"Dataset: {d} Temeperature: {t}\")\n",
        "    !python evalAnomaly.py  --input {path} --temperature {t}\n"
      ]
    },
    {
      "cell_type": "markdown",
      "metadata": {
        "id": "zCQqY5MlBtKQ"
      },
      "source": [
        "## Step 3"
      ]
    },
    {
      "cell_type": "markdown",
      "metadata": {},
      "source": [
        "### Train Bisenet"
      ]
    },
    {
      "cell_type": "code",
      "execution_count": null,
      "metadata": {},
      "outputs": [],
      "source": [
        "%cd /content/AnomalySegmentation_CourseProjectBaseCode/train\n",
        "!python main_training_void.py --savedir \"/trainingdata\" --resume --epochs-save 1 --num-epochs 3 --decoder --model 'bisenetv1'"
      ]
    },
    {
      "cell_type": "markdown",
      "metadata": {},
      "source": [
        "### Train ENet"
      ]
    },
    {
      "cell_type": "code",
      "execution_count": null,
      "metadata": {
        "colab": {
          "base_uri": "https://localhost:8080/"
        },
        "id": "RYBmh1CAIzQI",
        "outputId": "503656b6-154e-4663-c7bf-d7bacbce01b7"
      },
      "outputs": [],
      "source": [
        "%cd /content/AnomalySegmentation_CourseProjectBaseCode/train\n",
        "!python main_training_void.py --savedir \"/trainingdata\" --resume --epochs-save 1 --num-epochs 3 --decoder --model 'enet'"
      ]
    },
    {
      "cell_type": "markdown",
      "metadata": {},
      "source": [
        "### Train Erfnet"
      ]
    },
    {
      "cell_type": "code",
      "execution_count": null,
      "metadata": {},
      "outputs": [],
      "source": [
        "%cd /content/AnomalySegmentation_CourseProjectBaseCode/train\n",
        "!python main_training_void.py --savedir \"/trainingdata\" --resume --epochs-save 1 --num-epochs 3 --decoder --model 'erfnet'"
      ]
    },
    {
      "cell_type": "code",
      "execution_count": null,
      "metadata": {
        "colab": {
          "base_uri": "https://localhost:8080/"
        },
        "id": "q9FPBMzUF_mU",
        "outputId": "c9197280-5c34-473f-d3b9-a9c78fe1104a"
      },
      "outputs": [],
      "source": [
        "MODELS = [\"ErfNet\", \"ENet\", \"BiseNet\"]\n",
        "for m in MODELS:\n",
        "  !python void_eval_iou.py --model {m}"
      ]
    },
    {
      "cell_type": "code",
      "execution_count": null,
      "metadata": {
        "id": "rrXtwBSxBtKR"
      },
      "outputs": [],
      "source": [
        "DATASETS = [\"RoadAnomaly21\", \"RoadObsticle21\", \"FS_LostFound_full\", \"fs_static\", \"RoadAnomaly\"]\n",
        "MODELS = [\"ErfNet\", \"ENet\", \"BiseNet\"]\n",
        "for m in MODELS:\n",
        "  for d in (DATASETS):\n",
        "    path = f\"'Validation_Dataset/{d}/images/*.*'\"\n",
        "    print(f\"Dataset: {d}\")\n",
        "    !python VoidEvalAnomaly.py  --input {path} --model {m}"
      ]
    },
    {
      "cell_type": "code",
      "execution_count": null,
      "metadata": {},
      "outputs": [],
      "source": [
        "%cd /content/AnomalySegmentation_CourseProjectBaseCode/train\n",
        "!python main_training_void.py --savedir \"/trainingdata\" --resume --epochs-save 1 --num-epochs 3 --decoder"
      ]
    },
    {
      "cell_type": "markdown",
      "metadata": {
        "id": "HevP76R4FPAo"
      },
      "source": [
        "\n",
        "\n",
        "## Step 4\n",
        "\n"
      ]
    },
    {
      "cell_type": "markdown",
      "metadata": {
        "id": "h9JLlDN-Iu3r"
      },
      "source": [
        "## Train erfNet\n"
      ]
    },
    {
      "cell_type": "code",
      "execution_count": null,
      "metadata": {},
      "outputs": [],
      "source": [
        "%cd /content/AnomalySegmentation_CourseProjectBaseCode/train\n",
        "!python main.py --savedir \"/trainingdata\" --resume --epochs-save 1 --num-epochs 3 --decoder"
      ]
    }
  ],
  "metadata": {
    "accelerator": "GPU",
    "colab": {
      "gpuType": "T4",
      "provenance": []
    },
    "kernelspec": {
      "display_name": "Python 3",
      "name": "python3"
    },
    "language_info": {
      "name": "python"
    }
  },
  "nbformat": 4,
  "nbformat_minor": 0
}
