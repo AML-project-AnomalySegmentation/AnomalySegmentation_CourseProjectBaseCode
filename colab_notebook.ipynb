{
  "cells": [
    {
      "cell_type": "markdown",
      "metadata": {
        "id": "aDXzDAxzgsv_"
      },
      "source": [
        "# AML Project - Anomaly Segmentation"
      ]
    },
    {
      "cell_type": "markdown",
      "metadata": {
        "id": "XgDwCvkNg33C"
      },
      "source": [
        "## Notebook setup"
      ]
    },
    {
      "cell_type": "code",
      "execution_count": null,
      "metadata": {
        "colab": {
          "base_uri": "https://localhost:8080/"
        },
        "id": "xizWY25Cfe2J",
        "outputId": "13ebf7c6-b0bc-44b1-a741-ba7614bce4a8"
      },
      "outputs": [],
      "source": [
        "%cd /content\n",
        "!rm -r AnomalySegmentation_CourseProjectBaseCode\n",
        "!git clone https://github.com/AML-project-AnomalySegmentation/AnomalySegmentation_CourseProjectBaseCode.git\n"
      ]
    },
    {
      "cell_type": "code",
      "execution_count": null,
      "metadata": {
        "colab": {
          "base_uri": "https://localhost:8080/",
          "height": 1000
        },
        "id": "9I1wqrP7hVTQ",
        "outputId": "2a5e8ff7-df33-4d0e-e211-31616f2dbddb"
      },
      "outputs": [],
      "source": [
        "!pip3 install visdom\n",
        "!pip3 install ood_metrics\n",
        "!pip3 install cityscapesScripts\n"
      ]
    },
    {
      "cell_type": "markdown",
      "metadata": {
        "id": "sQrMXBZ3hO-Z"
      },
      "source": [
        "## Steps"
      ]
    },
    {
      "cell_type": "code",
      "execution_count": null,
      "metadata": {
        "colab": {
          "base_uri": "https://localhost:8080/"
        },
        "id": "GRi9_WiAcycC",
        "outputId": "91311e14-0b91-45e0-83ac-f4e9dfaf4663"
      },
      "outputs": [],
      "source": [
        "%cd /content/AnomalySegmentation_CourseProjectBaseCode/eval\n",
        "!python converter.py"
      ]
    },
    {
      "cell_type": "markdown",
      "metadata": {
        "id": "tDiDaNY7hXmC"
      },
      "source": [
        "### Step 2A - Compute AuPRC & FPR95TPR"
      ]
    },
    {
      "cell_type": "code",
      "execution_count": null,
      "metadata": {
        "id": "R9Gfeiv2hc1O"
      },
      "outputs": [],
      "source": [
        "DATASETS = [\"RoadAnomaly21\", \"RoadObsticle21\", \"FS_LostFound_full\", \"fs_static\", \"RoadAnomaly\"]\n",
        "DISCRIMINANTS = [\"msp\", \"maxlogit\", \"maxentropy\"]\n",
        "for d in (DATASETS):\n",
        "  path = f\"'Validation_Dataset/{d}/images/*.*'\"\n",
        "  for disc in (DISCRIMINANTS):\n",
        "    print(f\"Dataset: {d} Discriminant: {disc}\")\n",
        "    !python evalAnomaly.py  --input {path} --discriminant {disc}"
      ]
    },
    {
      "cell_type": "code",
      "execution_count": null,
      "metadata": {
        "id": "I4bfhfAoBtKO"
      },
      "outputs": [],
      "source": [
        "DISCRIMINANTS = [\"msp\", \"maxlogit\", \"maxentropy\"]\n",
        "\n",
        "for d in DISCRIMINANTS:\n",
        "   !python eval_iou.py --discriminant {d}"
      ]
    },
    {
      "cell_type": "markdown",
      "metadata": {
        "id": "lSqok2nrhdbE"
      },
      "source": [
        "### Step 2B - Compute AuPRC & FPR95TPR with temperatures"
      ]
    },
    {
      "cell_type": "code",
      "execution_count": null,
      "metadata": {
        "id": "GHnxyL9yea_-"
      },
      "outputs": [],
      "source": [
        "DATASETS = [\"RoadAnomaly21\", \"RoadObsticle21\", \"FS_LostFound_full\", \"fs_static\", \"RoadAnomaly\"]\n",
        "TEMPERATURES = [1,0.5,0.75,1.1]\n",
        "for d in (DATASETS):\n",
        "  path = f\"'Validation_Dataset/{d}/images/*.*'\"\n",
        "  for t in (TEMPERATURES):\n",
        "    print(f\"Dataset: {d} Temeperature: {t}\")\n",
        "    !python evalAnomaly.py  --input {path} --temperature {t}\n"
      ]
    },
    {
      "cell_type": "code",
      "execution_count": null,
      "metadata": {
        "colab": {
          "base_uri": "https://localhost:8080/"
        },
        "id": "AP5xPAB1BtKP",
        "outputId": "e8bd8387-9238-4246-bcf4-54789340c5ef"
      },
      "outputs": [],
      "source": [
        "!python optimalTemperature.py"
      ]
    },
    {
      "cell_type": "code",
      "execution_count": null,
      "metadata": {},
      "outputs": [],
      "source": [
        "DATASETS = [\"RoadAnomaly21\", \"RoadObsticle21\", \"FS_LostFound_full\", \"fs_static\", \"RoadAnomaly\"]\n",
        "OPTIMAL_TEMPERATURE = 2.13\n",
        "for d in (DATASETS):\n",
        "    path = f\"'Validation_Dataset/{d}/images/*.*'\"\n",
        "    print(f\"Dataset: {d} Temeperature: {t}\")\n",
        "    !python evalAnomaly.py  --input {path} --temperature {OPTIMAL_TEMPERATURE}"
      ]
    },
    {
      "cell_type": "code",
      "execution_count": null,
      "metadata": {
        "id": "aVTx6zGZBtKP"
      },
      "outputs": [],
      "source": [
        "TEMPERATURE = 2.13\n",
        "for t in TEMPERATURE:\n",
        "   !python eval_iou.py --temperature {t} --discriminant \"msp\""
      ]
    },
    {
      "cell_type": "markdown",
      "metadata": {
        "id": "zCQqY5MlBtKQ"
      },
      "source": [
        "## Step 3 - Train models with void class"
      ]
    },
    {
      "cell_type": "code",
      "execution_count": null,
      "metadata": {},
      "outputs": [],
      "source": [
        "%cd /content/AnomalySegmentation_CourseProjectBaseCode/train"
      ]
    },
    {
      "cell_type": "markdown",
      "metadata": {},
      "source": [
        "### Train & Compute AuPRC & FPR95TPR Bisenet"
      ]
    },
    {
      "cell_type": "code",
      "execution_count": null,
      "metadata": {},
      "outputs": [],
      "source": [
        "!python main_training_void.py --savedir \"/trainingdata\" --resume --epochs-save 1 --num-epochs 3 --decoder --model 'bisenetv1'"
      ]
    },
    {
      "cell_type": "code",
      "execution_count": null,
      "metadata": {},
      "outputs": [],
      "source": [
        "!python void_eval_iou.py --model \"BiseNet\""
      ]
    },
    {
      "cell_type": "code",
      "execution_count": null,
      "metadata": {},
      "outputs": [],
      "source": [
        "DATASETS = [\"RoadAnomaly21\", \"RoadObsticle21\", \"FS_LostFound_full\", \"fs_static\", \"RoadAnomaly\"]\n",
        "for d in (DATASETS):\n",
        "    path = f\"'Validation_Dataset/{d}/images/*.*'\"\n",
        "    print(f\"Dataset: {d}\")\n",
        "    !python VoidEvalAnomaly.py  --input {path} --model \"BiseNet\""
      ]
    },
    {
      "cell_type": "markdown",
      "metadata": {},
      "source": [
        "### Train & Compute AuPRC & FPR95TPR ENet"
      ]
    },
    {
      "cell_type": "code",
      "execution_count": null,
      "metadata": {
        "colab": {
          "base_uri": "https://localhost:8080/"
        },
        "id": "RYBmh1CAIzQI",
        "outputId": "503656b6-154e-4663-c7bf-d7bacbce01b7"
      },
      "outputs": [],
      "source": [
        "!python main_training_void.py --savedir \"/trainingdata\" --resume --epochs-save 1 --num-epochs 3 --decoder --model 'enet'"
      ]
    },
    {
      "cell_type": "code",
      "execution_count": null,
      "metadata": {},
      "outputs": [],
      "source": [
        "!python void_eval_iou.py --model \"ENet\""
      ]
    },
    {
      "cell_type": "code",
      "execution_count": null,
      "metadata": {},
      "outputs": [],
      "source": [
        "DATASETS = [\"RoadAnomaly21\", \"RoadObsticle21\", \"FS_LostFound_full\", \"fs_static\", \"RoadAnomaly\"]\n",
        "for d in (DATASETS):\n",
        "    path = f\"'Validation_Dataset/{d}/images/*.*'\"\n",
        "    print(f\"Dataset: {d}\")\n",
        "    !python VoidEvalAnomaly.py  --input {path} --model \"ENet\""
      ]
    },
    {
      "cell_type": "markdown",
      "metadata": {},
      "source": [
        "### Train & Compute AuPRC & FPR95TPR ErfNet"
      ]
    },
    {
      "cell_type": "code",
      "execution_count": null,
      "metadata": {},
      "outputs": [],
      "source": [
        "!python main_training_void.py --savedir \"/trainingdata\" --resume --epochs-save 1 --num-epochs 3 --decoder --model 'erfnet'"
      ]
    },
    {
      "cell_type": "code",
      "execution_count": null,
      "metadata": {},
      "outputs": [],
      "source": [
        "!python void_eval_iou.py --model \"ErfNet\""
      ]
    },
    {
      "cell_type": "code",
      "execution_count": null,
      "metadata": {},
      "outputs": [],
      "source": [
        "DATASETS = [\"RoadAnomaly21\", \"RoadObsticle21\", \"FS_LostFound_full\", \"fs_static\", \"RoadAnomaly\"]\n",
        "for d in (DATASETS):\n",
        "    path = f\"'Validation_Dataset/{d}/images/*.*'\"\n",
        "    print(f\"Dataset: {d}\")\n",
        "    !python VoidEvalAnomaly.py  --input {path} --model \"ErfNet\""
      ]
    },
    {
      "cell_type": "code",
      "execution_count": null,
      "metadata": {},
      "outputs": [],
      "source": [
        "DATASETS = [\"RoadAnomaly21\", \"RoadObsticle21\", \"FS_LostFound_full\", \"fs_static\", \"RoadAnomaly\"]\n",
        "for d in (DATASETS):\n",
        "    path = f\"'Validation_Dataset/{d}/images/*.*'\"\n",
        "    print(f\"Dataset: {d}\")\n",
        "    !python VoidEvalAnomaly.py  --input {path} --model \"ErfNet\""
      ]
    },
    {
      "cell_type": "markdown",
      "metadata": {
        "id": "HevP76R4FPAo"
      },
      "source": [
        "\n",
        "## Step 4 - Train ErfNet with addtional losses"
      ]
    },
    {
      "cell_type": "markdown",
      "metadata": {
        "id": "h9JLlDN-Iu3r"
      },
      "source": [
        "## Train ErfNet\n"
      ]
    },
    {
      "cell_type": "markdown",
      "metadata": {},
      "source": [
        "#### Logit Normalization"
      ]
    },
    {
      "cell_type": "code",
      "execution_count": null,
      "metadata": {},
      "outputs": [],
      "source": [
        "%cd /content/AnomalySegmentation_CourseProjectBaseCode/train\n",
        "!python main.py --savedir \"/trainingdata_LogitNorm\" --resume --epochs-save 1 --num-epochs 3 --decoder --customloss 'LogitNorm' --onlycustom"
      ]
    },
    {
      "cell_type": "markdown",
      "metadata": {},
      "source": [
        "##### Compute AuPRC & FPR95TPR"
      ]
    },
    {
      "cell_type": "code",
      "execution_count": null,
      "metadata": {},
      "outputs": [],
      "source": [
        "%cd /content/AnomalySegmentation_CourseProjectBaseCode/eval\n",
        "DATASETS = [\"RoadAnomaly21\", \"RoadObsticle21\", \"FS_LostFound_full\", \"fs_static\", \"RoadAnomaly\"]\n",
        "for d in (DATASETS):\n",
        "  path = f\"'Validation_Dataset/{d}/images/*.*'\"\n",
        "  print(f\"Dataset: {d}\")\n",
        "  !python evalAnomaly.py  --input {path} --discriminant \"msp\" --loadWeights \"model_best_only_logit.pth\""
      ]
    },
    {
      "cell_type": "markdown",
      "metadata": {},
      "source": [
        "##### Compute mIoU"
      ]
    },
    {
      "cell_type": "code",
      "execution_count": null,
      "metadata": {},
      "outputs": [],
      "source": [
        "%cd /content/AnomalySegmentation_CourseProjectBaseCode/eval\n",
        "!python eval_iou.py --discriminant \"msp\" --loadWeights \"model_best_only_logit.pth\""
      ]
    },
    {
      "cell_type": "markdown",
      "metadata": {},
      "source": [
        "#### Logit Normalization + Cross Entropy Loss"
      ]
    },
    {
      "cell_type": "code",
      "execution_count": null,
      "metadata": {},
      "outputs": [],
      "source": [
        "%cd /content/AnomalySegmentation_CourseProjectBaseCode/train\n",
        "!python main.py --savedir \"/trainingdata_LogitNormPlusCross\" --resume --epochs-save 1 --num-epochs 3 --decoder --customloss 'LogitNorm'"
      ]
    },
    {
      "cell_type": "markdown",
      "metadata": {},
      "source": [
        "##### Compute AuPRC & FPR95TPR"
      ]
    },
    {
      "cell_type": "code",
      "execution_count": null,
      "metadata": {},
      "outputs": [],
      "source": [
        "%cd /content/AnomalySegmentation_CourseProjectBaseCode/eval\n",
        "DATASETS = [\"RoadAnomaly21\", \"RoadObsticle21\", \"FS_LostFound_full\", \"fs_static\", \"RoadAnomaly\"]\n",
        "for d in (DATASETS):\n",
        "  path = f\"'Validation_Dataset/{d}/images/*.*'\"\n",
        "  print(f\"Dataset: {d}\")\n",
        "  !python evalAnomaly.py  --input {path} --discriminant \"msp\" --loadWeights \"model_best_crs_logit.pth\""
      ]
    },
    {
      "cell_type": "markdown",
      "metadata": {},
      "source": [
        "##### Compute mIoU"
      ]
    },
    {
      "cell_type": "code",
      "execution_count": null,
      "metadata": {},
      "outputs": [],
      "source": [
        "%cd /content/AnomalySegmentation_CourseProjectBaseCode/eval\n",
        "!python eval_iou.py --discriminant \"msp\" --loadWeights \"model_best_crs_logit.pth\""
      ]
    },
    {
      "cell_type": "markdown",
      "metadata": {},
      "source": [
        "#### Logit Normalization + Focal Loss"
      ]
    },
    {
      "cell_type": "code",
      "execution_count": null,
      "metadata": {},
      "outputs": [],
      "source": [
        "%cd /content/AnomalySegmentation_CourseProjectBaseCode/train\n",
        "!python main.py --savedir \"/trainingdata_LogitNormPlusFocal\" --resume --epochs-save 1 --num-epochs 3 --decoder --customloss 'LogitNorm' --focal"
      ]
    },
    {
      "cell_type": "markdown",
      "metadata": {},
      "source": [
        "##### Compute AuPRC & FPR95TPR"
      ]
    },
    {
      "cell_type": "code",
      "execution_count": null,
      "metadata": {},
      "outputs": [],
      "source": [
        "%cd /content/AnomalySegmentation_CourseProjectBaseCode/eval\n",
        "DATASETS = [\"RoadAnomaly21\", \"RoadObsticle21\", \"FS_LostFound_full\", \"fs_static\", \"RoadAnomaly\"]\n",
        "for d in (DATASETS):\n",
        "  path = f\"'Validation_Dataset/{d}/images/*.*'\"\n",
        "  print(f\"Dataset: {d}\")\n",
        "  !python evalAnomaly.py  --input {path} --discriminant \"msp\" --loadWeights \"model_best_focal_logit.pth\""
      ]
    },
    {
      "cell_type": "markdown",
      "metadata": {},
      "source": [
        "##### Compute mIoU"
      ]
    },
    {
      "cell_type": "code",
      "execution_count": null,
      "metadata": {},
      "outputs": [],
      "source": [
        "%cd /content/AnomalySegmentation_CourseProjectBaseCode/eval\n",
        "!python eval_iou.py --discriminant \"msp\" --loadWeights \"model_best_focal_logit.pth\""
      ]
    },
    {
      "cell_type": "markdown",
      "metadata": {},
      "source": [
        "#### Enhanced Isotropy Maximization Loss"
      ]
    },
    {
      "cell_type": "code",
      "execution_count": null,
      "metadata": {},
      "outputs": [],
      "source": [
        "%cd /content/AnomalySegmentation_CourseProjectBaseCode/train\n",
        "!python main.py --savedir \"/trainingdata_IsoMax\" --resume --epochs-save 1 --num-epochs 3 --decoder --customloss 'IsoMax' --onlycustom"
      ]
    },
    {
      "cell_type": "markdown",
      "metadata": {},
      "source": [
        "##### Compute AuPRC & FPR95TPR"
      ]
    },
    {
      "cell_type": "code",
      "execution_count": null,
      "metadata": {},
      "outputs": [],
      "source": [
        "%cd /content/AnomalySegmentation_CourseProjectBaseCode/eval\n",
        "DATASETS = [\"RoadAnomaly21\", \"RoadObsticle21\", \"FS_LostFound_full\", \"fs_static\", \"RoadAnomaly\"]\n",
        "for d in (DATASETS):\n",
        "  path = f\"'Validation_Dataset/{d}/images/*.*'\"\n",
        "  print(f\"Dataset: {d}\")\n",
        "  !python evalAnomaly.py  --input {path} --discriminant \"msp\" --loadWeights \"model_best_only_isomax.pth\""
      ]
    },
    {
      "cell_type": "markdown",
      "metadata": {},
      "source": [
        "##### Compute mIoU"
      ]
    },
    {
      "cell_type": "code",
      "execution_count": null,
      "metadata": {},
      "outputs": [],
      "source": [
        "%cd /content/AnomalySegmentation_CourseProjectBaseCode/eval\n",
        "!python eval_iou.py --discriminant \"msp\" --loadWeights \"model_best_only_isomax.pth\""
      ]
    },
    {
      "cell_type": "markdown",
      "metadata": {},
      "source": [
        "#### Enhanced Isotropy Maximization Loss + Cross Entropy Loss"
      ]
    },
    {
      "cell_type": "code",
      "execution_count": null,
      "metadata": {},
      "outputs": [],
      "source": [
        "%cd /content/AnomalySegmentation_CourseProjectBaseCode/train\n",
        "!python main.py --savedir \"/trainingdata_IsoMaxPlusCross\" --resume --epochs-save 1 --num-epochs 3 --decoder --customloss 'IsoMax' "
      ]
    },
    {
      "cell_type": "markdown",
      "metadata": {},
      "source": [
        "##### Compute AuPRC & FPR95TPR"
      ]
    },
    {
      "cell_type": "code",
      "execution_count": null,
      "metadata": {},
      "outputs": [],
      "source": [
        "%cd /content/AnomalySegmentation_CourseProjectBaseCode/eval\n",
        "DATASETS = [\"RoadAnomaly21\", \"RoadObsticle21\", \"FS_LostFound_full\", \"fs_static\", \"RoadAnomaly\"]\n",
        "for d in (DATASETS):\n",
        "  path = f\"'Validation_Dataset/{d}/images/*.*'\"\n",
        "  print(f\"Dataset: {d}\")\n",
        "  !python evalAnomaly.py  --input {path} --discriminant \"msp\" --loadWeights \"model_best_crs_isomax.pth\""
      ]
    },
    {
      "cell_type": "markdown",
      "metadata": {},
      "source": [
        "##### Compute mIoU"
      ]
    },
    {
      "cell_type": "code",
      "execution_count": null,
      "metadata": {},
      "outputs": [],
      "source": [
        "%cd /content/AnomalySegmentation_CourseProjectBaseCode/eval\n",
        "!python eval_iou.py --discriminant \"msp\" --loadWeights \"model_best_crs_isomax.pth\"\n"
      ]
    },
    {
      "cell_type": "markdown",
      "metadata": {},
      "source": [
        "#### Enhanced Isotropy Maximization Loss + Focal Loss"
      ]
    },
    {
      "cell_type": "code",
      "execution_count": null,
      "metadata": {},
      "outputs": [],
      "source": [
        "%cd /content/AnomalySegmentation_CourseProjectBaseCode/train\n",
        "\n",
        "!python main.py --savedir \"/trainingdata_IsoMaxPlusFocal\" --resume --epochs-save 1 --num-epochs 3 --decoder --customloss 'IsoMax' --focal"
      ]
    },
    {
      "cell_type": "markdown",
      "metadata": {},
      "source": [
        "##### Compute AuPRC & FPR95TPR"
      ]
    },
    {
      "cell_type": "code",
      "execution_count": null,
      "metadata": {},
      "outputs": [],
      "source": [
        "%cd /content/AnomalySegmentation_CourseProjectBaseCode/eval\n",
        "!python eval_iou.py --discriminant \"msp\" --loadWeights \"model_best_focal_isomax.pth\""
      ]
    },
    {
      "cell_type": "markdown",
      "metadata": {},
      "source": [
        "##### Compute mIoU"
      ]
    },
    {
      "cell_type": "code",
      "execution_count": null,
      "metadata": {},
      "outputs": [],
      "source": [
        "%cd /content/AnomalySegmentation_CourseProjectBaseCode/eval\n",
        "DATASETS = [\"RoadAnomaly21\", \"RoadObsticle21\", \"FS_LostFound_full\", \"fs_static\", \"RoadAnomaly\"]\n",
        "for d in (DATASETS):\n",
        "  path = f\"'Validation_Dataset/{d}/images/*.*'\"\n",
        "  print(f\"Dataset: {d}\")\n",
        "  !python evalAnomaly.py  --input {path} --discriminant \"msp\" --loadWeights \"model_best_focal_isomax.pth\""
      ]
    }
  ],
  "metadata": {
    "accelerator": "GPU",
    "colab": {
      "gpuType": "T4",
      "provenance": []
    },
    "kernelspec": {
      "display_name": "Python 3",
      "name": "python3"
    },
    "language_info": {
      "name": "python"
    }
  },
  "nbformat": 4,
  "nbformat_minor": 0
}
