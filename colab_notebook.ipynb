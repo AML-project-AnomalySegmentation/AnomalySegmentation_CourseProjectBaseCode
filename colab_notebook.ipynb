{
  "cells": [
    {
      "cell_type": "markdown",
      "metadata": {
        "id": "aDXzDAxzgsv_"
      },
      "source": [
        "# AML Project - Anomaly Segmentation"
      ]
    },
    {
      "cell_type": "markdown",
      "metadata": {
        "id": "XgDwCvkNg33C"
      },
      "source": [
        "## Notebook setup"
      ]
    },
    {
      "cell_type": "code",
      "execution_count": null,
      "metadata": {
        "id": "xizWY25Cfe2J"
      },
      "outputs": [],
      "source": [
        "%cd /content\n",
        "!rm -r AnomalySegmentation_CourseProjectBaseCode\n",
        "!git clone https://github.com/AML-project-AnomalySegmentation/AnomalySegmentation_CourseProjectBaseCode.git\n"
      ]
    },
    {
      "cell_type": "code",
      "execution_count": null,
      "metadata": {
        "id": "9I1wqrP7hVTQ"
      },
      "outputs": [],
      "source": [
        "!pip3 install visdom\n",
        "!pip3 install ood_metrics"
      ]
    },
    {
      "cell_type": "markdown",
      "source": [
        "\n",
        "\n",
        "### Download Cityscape Dataset\n"
      ],
      "metadata": {
        "id": "dDkobWi9Fro-"
      }
    },
    {
      "cell_type": "code",
      "source": [
        "%cd AnomalySegmentation_CourseProjectBaseCode/dataset\n",
        "!gdown 1bCoKg9_Z1tVZS66c_JrWuVeKxsT6QzDz\n",
        "!jar xvf \"Cityscapes.zip\"\n"
      ],
      "metadata": {
        "id": "IEl-TWfMFpTg"
      },
      "execution_count": null,
      "outputs": []
    },
    {
      "cell_type": "markdown",
      "metadata": {
        "id": "sQrMXBZ3hO-Z"
      },
      "source": [
        "## Steps"
      ]
    },
    {
      "cell_type": "code",
      "execution_count": 2,
      "metadata": {
        "colab": {
          "base_uri": "https://localhost:8080/"
        },
        "id": "GRi9_WiAcycC",
        "outputId": "265d9a65-7059-4f35-92ed-8c0ac8d2434f"
      },
      "outputs": [
        {
          "output_type": "stream",
          "name": "stdout",
          "text": [
            "/content/AnomalySegmentation_CourseProjectBaseCode/eval\n"
          ]
        }
      ],
      "source": [
        "%cd /content/AnomalySegmentation_CourseProjectBaseCode/eval"
      ]
    },
    {
      "cell_type": "markdown",
      "metadata": {
        "id": "tDiDaNY7hXmC"
      },
      "source": [
        "### Step 2A"
      ]
    },
    {
      "cell_type": "code",
      "execution_count": null,
      "metadata": {
        "id": "R9Gfeiv2hc1O"
      },
      "outputs": [],
      "source": [
        "DATASETS = [\"RoadAnomaly21\", \"RoadObsticle21\", \"FS_LostFound_full\", \"fs_static\", \"RoadAnomaly\"]\n",
        "DISCRIMINANTS = [\"msp\", \"maxlogit\", \"maxentropy\"]\n",
        "for d in (DATASETS):\n",
        "  path = f\"'Validation_Dataset/{d}/images/*.*'\"\n",
        "  for disc in (DISCRIMINANTS):\n",
        "    print(f\"Dataset: {d} Discriminant: {disc}\")\n",
        "    !python evalAnomaly.py  --input {path} --discriminant {disc}"
      ]
    },
    {
      "cell_type": "code",
      "execution_count": null,
      "metadata": {
        "id": "I4bfhfAoBtKO"
      },
      "outputs": [],
      "source": [
        "DISCRIMINANTS = [\"msp\", \"maxlogit\", \"maxentropy\"]\n",
        "for d in DISCRIMINANTS:\n",
        "   !python eval_iou.py --discriminant {d}"
      ]
    },
    {
      "cell_type": "code",
      "execution_count": null,
      "metadata": {
        "id": "aVTx6zGZBtKP"
      },
      "outputs": [],
      "source": [
        "TEMPERATURE = [0.5, 0.75, 1.1]\n",
        "for d in TEMPERATURE:\n",
        "   !python eval_iou.py --temperature {d}"
      ]
    },
    {
      "cell_type": "code",
      "execution_count": null,
      "metadata": {
        "id": "AP5xPAB1BtKP"
      },
      "outputs": [],
      "source": [
        "DATASETS = [\"RoadAnomaly21\", \"RoadObsticle21\", \"FS_LostFound_full\", \"fs_static\", \"RoadAnomaly\"]\n",
        "path = f\"'Validation_Dataset/'\"\n",
        "print(f\"Dataset: {d}\")\n",
        "!python optimalTemperature.py  --input {path}"
      ]
    },
    {
      "cell_type": "markdown",
      "metadata": {
        "id": "lSqok2nrhdbE"
      },
      "source": [
        "### Step 2B"
      ]
    },
    {
      "cell_type": "code",
      "execution_count": null,
      "metadata": {
        "id": "GHnxyL9yea_-"
      },
      "outputs": [],
      "source": [
        "DATASETS = [\"RoadAnomaly21\", \"RoadObsticle21\", \"FS_LostFound_full\", \"fs_static\", \"RoadAnomaly\"]\n",
        "TEMPERATURES = [1,0.5,0.75,1.1]\n",
        "for d in (DATASETS):\n",
        "  path = f\"'Validation_Dataset/{d}/images/*.*'\"\n",
        "  for t in (TEMPERATURES):\n",
        "    print(f\"Dataset: {d} Temeperature: {t}\")\n",
        "    !python evalAnomaly.py  --input {path} --temperature {t}\n"
      ]
    },
    {
      "cell_type": "markdown",
      "metadata": {
        "id": "zCQqY5MlBtKQ"
      },
      "source": [
        "## Step 3"
      ]
    },
    {
      "cell_type": "code",
      "execution_count": null,
      "metadata": {
        "id": "rrXtwBSxBtKR"
      },
      "outputs": [],
      "source": [
        "DATASETS = [\"RoadAnomaly21\", \"RoadObsticle21\", \"FS_LostFound_full\", \"fs_static\", \"RoadAnomaly\"]\n",
        "MODELS = [\"ErfNet\", \"ENet\", \"BiseNet\"]\n",
        "for m in MODELS:\n",
        "  for d in (DATASETS):\n",
        "    path = f\"'Validation_Dataset/{d}/images/*.*'\"\n",
        "    print(f\"Dataset: {d}\")\n",
        "    !python VoidEvalAnomaly.py  --input {path} --model {m}"
      ]
    },
    {
      "cell_type": "code",
      "source": [
        "MODELS = [\"ErfNet\", \"ENet\", \"BiseNet\"]\n",
        "for m in MODELS:\n",
        "  !python void_eval_iou.py --model {m}"
      ],
      "metadata": {
        "id": "q9FPBMzUF_mU"
      },
      "execution_count": null,
      "outputs": []
    },
    {
      "cell_type": "markdown",
      "source": [
        "\n",
        "\n",
        "## Step 4\n",
        "\n"
      ],
      "metadata": {
        "id": "HevP76R4FPAo"
      }
    },
    {
      "cell_type": "markdown",
      "source": [
        "### Download CamVid Dataset\n",
        "\n"
      ],
      "metadata": {
        "id": "BQ_aX6UkF3gn"
      }
    },
    {
      "cell_type": "code",
      "source": [
        "%cd /content/AnomalySegmentation_CourseProjectBaseCode/dataset\n",
        "!gdown 12Q3ayeWZnl8J8bAGermmLKr3G89jN0Sa\n",
        "!jar xvf \"CamVid.zip\"\n"
      ],
      "metadata": {
        "id": "xwtXYY-WFOLg"
      },
      "execution_count": null,
      "outputs": []
    },
    {
      "cell_type": "markdown",
      "source": [
        "## Test Dataset\n"
      ],
      "metadata": {
        "id": "h9JLlDN-Iu3r"
      }
    },
    {
      "cell_type": "code",
      "source": [
        "%cd /content/AnomalySegmentation_CourseProjectBaseCode/train\n",
        "!python main.py --datadir \"../dataset/CamVid\""
      ],
      "metadata": {
        "id": "RYBmh1CAIzQI",
        "outputId": "5219297a-c8a1-4012-e3b0-917ad4a0854d",
        "colab": {
          "base_uri": "https://localhost:8080/"
        }
      },
      "execution_count": 6,
      "outputs": [
        {
          "output_type": "stream",
          "name": "stdout",
          "text": [
            "/content/AnomalySegmentation_CourseProjectBaseCode/train\n",
            "../dataset/CamVid/train/ ../dataset/CamVid/train_labels/\n",
            "../dataset/CamVid/val/ ../dataset/CamVid/val_labels/\n",
            "369\n"
          ]
        }
      ]
    }
  ],
  "metadata": {
    "accelerator": "GPU",
    "colab": {
      "gpuType": "T4",
      "provenance": []
    },
    "kernelspec": {
      "display_name": "Python 3",
      "name": "python3"
    },
    "language_info": {
      "name": "python"
    }
  },
  "nbformat": 4,
  "nbformat_minor": 0
}